{
 "cells": [
  {
   "cell_type": "markdown",
   "id": "8eb25311-8af7-46bb-8b35-4f10df559953",
   "metadata": {},
   "source": [
    "# BioProjectメタデータを未病DBに転記する"
   ]
  },
  {
   "cell_type": "markdown",
   "id": "99ea169b-5b59-463a-8bf5-cbcf0e8e03e2",
   "metadata": {
    "editable": true,
    "slideshow": {
     "slide_type": ""
    },
    "tags": []
   },
   "source": [
    "このノートブックは、合原ムーンショットプロジェクトで開発された包括的未病データベース（未病DB）にメタデータを登録する際の便宜を図るものです。\n",
    "\n",
    "* 対象ユーザー: 未病DBにプロジェクトメタデータを登録する方\n",
    "* 入力元: BioProject形式のメタデータが記載されたExcelファイル（DDBJセンターが作成したフォーマット）\n",
    "* 出力先: JSON形式の文字列（クリップボード経由で未病DBに貼り付ける）"
   ]
  },
  {
   "cell_type": "markdown",
   "id": "ed013e6b-c069-4010-a960-9f0c9ffc1b4d",
   "metadata": {},
   "source": [
    "## 1. 設定"
   ]
  },
  {
   "cell_type": "markdown",
   "id": "b00de750-58c2-434c-ac22-50f9b4e4c98e",
   "metadata": {},
   "source": [
    "入力元となるExcelファイルをこのノートブックと同じフォルダに置き、ファイル名を下のセルに設定してください。"
   ]
  },
  {
   "cell_type": "code",
   "execution_count": null,
   "id": "739dfde8-ea5d-4930-8f1a-13a78db82d9b",
   "metadata": {},
   "outputs": [],
   "source": [
    "# 入力元Excelファイル名\n",
    "input_file = 'BioProject_test1.xlsx'"
   ]
  },
  {
   "cell_type": "markdown",
   "id": "d9d986f4-ad3f-40ca-ac11-913d3f6ca2b2",
   "metadata": {},
   "source": [
    "必要に応じて、項目名の対応表を修正してください。\n",
    "\n",
    "* BioProject項目名は、Excelフォーマットのシート名、Category名、Item名をピリオドで繋げて書きます。ただし、大文字は小文字に、空白は下線 `_` に置き換えます。例えば、シート=\"GENERAL INFO\" の Category=\"Project Description\" の Item=\"Project title\" は `general_info.project_description.project_title` と書きます。\n",
    "* Excelに同一のCategoryが複数ある場合は、次のように書きます。\n",
    "  * `submitter.contact_person.0.e-mail` → 一番上の e-mail だけを出力します\n",
    "  * `submitter.contact_person.1.e-mail` → 上から2番目の e-mail だけを出力します\n",
    "  * `submitter.contact_person.:.e-mail` → すべての e-mail を結合して出力します\n",
    "* 複数のItemをひとつの未病DB項目に対応させるには、コロン `:` を用いて以下のように書きます。\n",
    "  * `submitter.contact_person.:.name` → first_name と last_name を合わせて1項目とします\n",
    "  * `general_info.grants.:.*` → agency, agency_abbreviation, grant_id, grant_title を合わせて1項目とします\n",
    "  * `publication.publication.:.*` → PubMed ID と DOI を合わせて1項目とします"
   ]
  },
  {
   "cell_type": "code",
   "execution_count": null,
   "id": "bdbf55f4-08c8-4de3-99a0-2cf254465e70",
   "metadata": {},
   "outputs": [],
   "source": [
    "# '未病DB項目名':'BioProject項目名'\n",
    "mapping = {\n",
    "  'title-of-dataset':'',\n",
    "  'title-of-dataset-en':'',\n",
    "  'project-name':'',\n",
    "  'data-id':'',\n",
    "  'date-registered-in-metadata':'',\n",
    "  'date-updated-in-metadata':'',\n",
    "  'purpose-of-experiment':'general_info.project_description.project_title',\n",
    "  'purpose-of-experiment-en':'',\n",
    "  'description-of-experimental-condition':'general_info.project_description.description',\n",
    "  'description-of-experimental-condition-en':'',\n",
    "  'keyword-arr':'',\n",
    "  'keyword-arr-en':'',\n",
    "  'dataset-research-field':'',\n",
    "  'Analysis-type':[],\n",
    "  'Analysis-type-other':'project_type.project_data_type.project_data_type_description',\n",
    "  'the-presence-of-metadata-files-created-for-a-specific-modality-in-other-databases':'',\n",
    "  'metadata-filename':'',\n",
    "  'necessity-of-contact-and-permission':'',\n",
    "  'necessity-of-including-in-acknowledgments':'',\n",
    "  'names-to-be-included-in-the-acknowledgments':'general_info.grants.:.*',\n",
    "  'names-to-be-included-in-the-acknowledgments-en':'',\n",
    "  'other-conditions-or-special-notes':'',\n",
    "  'other-conditions-or-special-notes-en':'',\n",
    "  'data-policy-license':'',\n",
    "  'data-policy-free':'',\n",
    "  'availability-of-commercial-use':'',\n",
    "  'access-rights':'',\n",
    "  'scheduled-release-date':'',\n",
    "  'repository-information':'',\n",
    "  'repository-url-doi-link':'',\n",
    "  'other-supplementary-information':'publication.publication.:.*',\n",
    "  'other-supplementary-information-en':'',\n",
    "  'name-of-data-creator':'',\n",
    "  'name-of-data-creator-en':'',\n",
    "  'belonging-of-data-creator':'',\n",
    "  'belonging-of-data-creator-en':'',\n",
    "  'contact-of-data-creator':'',\n",
    "  'name-of-data-manager':'submitter.contact_person.:.name',\n",
    "  'name-of-data-manager-en':'',\n",
    "  'belonging-of-data-manager':'submitter.organization.submitting_organization',\n",
    "  'belonging-of-data-manager-en':'',\n",
    "  'contact-of-data-manager':'submitter.contact_person.:.e-mail',\n",
    "  'target-type-of-acquired-data':'target.organism_information.organism_name',\n",
    "  'target-type-of-acquired-data-en':'',\n",
    "  'ethics-review-committee-approval':'',\n",
    "  'ethics-review-committee-approval-en':'',\n",
    "  'informed-consent':'',\n",
    "  'consent-for-provision-to-a-third-party':'',\n",
    "  'overseas-offerings':'',\n",
    "  'industrial-use':'',\n",
    "  'ic-is-no':'',\n",
    "  'anonymous-processing':'',\n",
    "  'conflict-of-interest-Yes-or-No':'',\n",
    "  'conflict-of-interest':'',\n",
    "  'conflict-of-interest-en':'',\n",
    "  'remarks-3':'',\n",
    "  'remarks-3-en':''\n",
    "}"
   ]
  },
  {
   "cell_type": "markdown",
   "id": "9e6ab193-d3c7-4ba6-a7c4-6302467219fb",
   "metadata": {},
   "source": [
    "複数のItemをひとつの未病DB項目に対応させる場合の区切り文字を設定してください。"
   ]
  },
  {
   "cell_type": "code",
   "execution_count": null,
   "id": "54ab853b-0bfe-47c8-a92c-456856282b3c",
   "metadata": {},
   "outputs": [],
   "source": [
    "separator = ','"
   ]
  },
  {
   "cell_type": "markdown",
   "id": "3f165551-0e41-48ba-a2f4-5bb2a2f394a0",
   "metadata": {},
   "source": [
    "## 2. 実行"
   ]
  },
  {
   "cell_type": "markdown",
   "id": "afe6d217-5c8e-4716-a321-9aec8600f0f0",
   "metadata": {},
   "source": [
    "以下のセルをすべて実行してください。"
   ]
  },
  {
   "cell_type": "code",
   "execution_count": null,
   "id": "90acd0a7-50fb-4ef7-8bba-072394b0a8dc",
   "metadata": {
    "editable": true,
    "slideshow": {
     "slide_type": ""
    },
    "tags": []
   },
   "outputs": [],
   "source": [
    "import pandas as pd\n",
    "import json\n",
    "import re\n",
    "import warnings\n",
    "from dotty_dict import dotty\n",
    "\n",
    "# DDBJセンターが作成したExcelフォーマットを読み込む\n",
    "def read_bioproject_from_excel(excel_file):\n",
    "  # 読み込むワークシート名（原文ママ）\n",
    "  sheets_to_read = ['SUBMITTER', 'GENERAL INFO', 'TARGET', 'PROJECT TYPE', 'PUBLICATION']\n",
    "  # 複数のアイテムを含むカテゴリ名（小文字、空白→下線）\n",
    "  plural_categories = ['contact_person', 'external_links', 'grants', 'publication']\n",
    "  data = {}\n",
    "  warnings.simplefilter(action='ignore', category=UserWarning)\n",
    "  dfs = pd.read_excel(excel_file, sheet_name=sheets_to_read, header=1)\n",
    "  for sheet_name in dfs:\n",
    "    df = dfs[sheet_name]\n",
    "    k = 0 # index of plural category\n",
    "    if 'Category' in df.columns:\n",
    "      df['Category'] = df['Category'].ffill()\n",
    "    if 'Item' in df.columns:\n",
    "      df['Item'] = df['Item'].ffill()\n",
    "    sheet_data = {}\n",
    "    for index, row in df.iterrows():\n",
    "      category = normalize(row['Category'])\n",
    "      item = normalize(row['Item'])\n",
    "      value = row['Value']\n",
    "      if category not in plural_categories:\n",
    "        if category not in sheet_data:\n",
    "          sheet_data[category] = {}\n",
    "        sheet_data[category][item] = value\n",
    "      else:\n",
    "        if category not in sheet_data:\n",
    "          sheet_data[category] = [{}]\n",
    "          k = 0\n",
    "        if item in sheet_data[category][k]:\n",
    "          sheet_data[category].append({})\n",
    "          k += 1\n",
    "        sheet_data[category][k][item] = interpret(value)\n",
    "    data[normalize(sheet_name)] = sheet_data\n",
    "  return data\n",
    "\n",
    "# 項目名を正規化\n",
    "def normalize(name):\n",
    "  name = str(name).strip().replace(' ', '_').lower()\n",
    "  name = re.sub(r'[　０-９]', '', name)\n",
    "  return name\n",
    "\n",
    "# 入力値を正規化\n",
    "def interpret(value):\n",
    "  # if isinstance(value, str):\n",
    "  #   value = str(value).strip()\n",
    "  value = str(value).strip()\n",
    "  return value    \n",
    "\n",
    "# 出力値を正規化\n",
    "def represent(value):\n",
    "  if value:\n",
    "    value = str(value).strip()\n",
    "  else:\n",
    "    value = ''\n",
    "  return value"
   ]
  },
  {
   "cell_type": "code",
   "execution_count": null,
   "id": "efc8cd2c-dda8-414a-a54b-d224fac59788",
   "metadata": {},
   "outputs": [],
   "source": [
    "input_data = read_bioproject_from_excel(input_file)\n",
    "# input_data"
   ]
  },
  {
   "cell_type": "code",
   "execution_count": null,
   "id": "112a2716-8688-4add-ae4f-9d5c46b6c506",
   "metadata": {},
   "outputs": [],
   "source": [
    "dotty_data = dotty(input_data)\n",
    "# dotty_data"
   ]
  },
  {
   "cell_type": "markdown",
   "id": "5d00db84-1f4a-4531-8950-6c1eee52ea1c",
   "metadata": {},
   "source": [
    "必要に応じて、以下の書式を修正してください。"
   ]
  },
  {
   "cell_type": "code",
   "execution_count": null,
   "id": "8548a98f-0cca-48b9-9d54-2efe35c4bfec",
   "metadata": {},
   "outputs": [],
   "source": [
    "a = dotty_data.get('submitter.contact_person')\n",
    "for x in a:\n",
    "  x['name'] = f\"{x['first_name']} {x['last_name']}\""
   ]
  },
  {
   "cell_type": "code",
   "execution_count": null,
   "id": "08ca25e1-53ff-4591-a007-29c452b3fbb0",
   "metadata": {},
   "outputs": [],
   "source": [
    "a = dotty_data.get('general_info.grants')\n",
    "for x in a:\n",
    "  x['*'] = f\"{x['agency']} ({x['agency_abbreviation']}) #{x['grant_id']} \\\"{x['grant_title']}\\\"\""
   ]
  },
  {
   "cell_type": "code",
   "execution_count": null,
   "id": "78820ffb-b5ff-4e22-b841-0fef6a3ac660",
   "metadata": {},
   "outputs": [],
   "source": [
    "a = dotty_data.get('publication.publication')\n",
    "for x in a:\n",
    "  s = []\n",
    "  if x['pubmed_id']:\n",
    "    s.append(f\"PMID:{x['pubmed_id']}\")\n",
    "  if x['doi']:\n",
    "    s.append(f\"DOI:{x['doi']}\")\n",
    "  x['*'] = ' '.join(s)"
   ]
  },
  {
   "cell_type": "code",
   "execution_count": null,
   "id": "246f278a-5c40-4bfb-912e-0e6e9f43714e",
   "metadata": {},
   "outputs": [],
   "source": [
    "# 出力データを構成する\n",
    "output_data = {}\n",
    "for k, v in mapping.items():\n",
    "  if v:\n",
    "    x = dotty_data.get(v)\n",
    "    if isinstance(x, list):\n",
    "      output_data[k] = separator.join(x)\n",
    "    else:\n",
    "      output_data[k] = represent(x)\n",
    "output_data"
   ]
  },
  {
   "cell_type": "markdown",
   "id": "313c299b-95c9-4aa5-af6e-3b092183e997",
   "metadata": {},
   "source": [
    "## 3. 結果取得"
   ]
  },
  {
   "cell_type": "markdown",
   "id": "d1726319-0e35-4e2f-85e3-7de7eddf9591",
   "metadata": {},
   "source": [
    "表示された文字列をクリッボードにコピーし、未病DBのプロジェクトメタデータ入力画面に貼り付けてください。"
   ]
  },
  {
   "cell_type": "code",
   "execution_count": null,
   "id": "43a9e1a7-8d3a-4f7a-a420-188ebb69e5e0",
   "metadata": {},
   "outputs": [],
   "source": [
    "print(json.dumps(output_data, indent=2))"
   ]
  }
 ],
 "metadata": {
  "kernelspec": {
   "display_name": "Python 3 (ipykernel)",
   "language": "python",
   "name": "python3"
  },
  "language_info": {
   "codemirror_mode": {
    "name": "ipython",
    "version": 3
   },
   "file_extension": ".py",
   "mimetype": "text/x-python",
   "name": "python",
   "nbconvert_exporter": "python",
   "pygments_lexer": "ipython3",
   "version": "3.12.9"
  }
 },
 "nbformat": 4,
 "nbformat_minor": 5
}
